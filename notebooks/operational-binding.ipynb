{
 "cells": [
  {
   "cell_type": "code",
   "execution_count": null,
   "id": "c3c48138-ddd5-45e3-9272-5e5c15e0b9f1",
   "metadata": {},
   "outputs": [],
   "source": [
    "from lxml import etree\n",
    "from glob import glob\n",
    "import re\n",
    "from collections import Counter, defaultdict\n",
    "import pandas as pd\n",
    "import multiprocessing\n",
    "import itertools\n",
    "from collections import Counter\n",
    "from matplotlib import pyplot as plt\n",
    "import random\n",
    "import hashlib\n",
    "import os"
   ]
  },
  {
   "cell_type": "code",
   "execution_count": null,
   "id": "aab33629-3480-4ee5-807e-3791453369cf",
   "metadata": {},
   "outputs": [],
   "source": [
    "years = list(range(1998, 2019 + 1))"
   ]
  },
  {
   "cell_type": "markdown",
   "id": "2157e26e-1c34-4436-89b0-37566b3273a6",
   "metadata": {},
   "source": [
    "# General functions"
   ]
  },
  {
   "cell_type": "code",
   "execution_count": null,
   "id": "39be0606-ba10-407a-af2b-583edc625420",
   "metadata": {},
   "outputs": [],
   "source": [
    "def get_text_and_keys(tree):\n",
    "    for t in tree.xpath('//text'):\n",
    "        item = t.getparent()\n",
    "        text = etree.tostring(t, method='text', encoding='utf-8').decode('utf-8')\n",
    "        if text:\n",
    "            yield text, item.attrib['key']"
   ]
  },
  {
   "cell_type": "code",
   "execution_count": null,
   "id": "e9ec347a-2347-40fc-9c99-5f29c992377d",
   "metadata": {
    "tags": []
   },
   "outputs": [],
   "source": [
    "def replace_reference_elements(tree):\n",
    "    for ref in tree.xpath('//reference'):\n",
    "        parent = ref.getparent()\n",
    "        placeholder = etree.SubElement(parent,'placeholder')\n",
    "        placeholder.tail = ref.tail\n",
    "        placeholder.text = '{ref}'\n",
    "        parent.replace(ref, placeholder)"
   ]
  },
  {
   "cell_type": "code",
   "execution_count": null,
   "id": "f20e546c-2613-4ac0-bc8c-fcee4fc1ead6",
   "metadata": {},
   "outputs": [],
   "source": [
    "def get_first_word(text, reverse=False):\n",
    "    splitted = text.split(' ')\n",
    "    i = -1 if reverse else 0\n",
    "    if not splitted:\n",
    "        return ''\n",
    "    elif len(splitted) == 1:\n",
    "        return splitted[0]\n",
    "    elif splitted[i] == '':\n",
    "        if reverse:\n",
    "            return splitted[-2] + ' '\n",
    "        else:\n",
    "            return ' ' + splitted[1]\n",
    "    else:\n",
    "        return splitted[i]"
   ]
  },
  {
   "cell_type": "code",
   "execution_count": null,
   "id": "80b0ee78-d0f9-4042-bafb-e5633cccf27e",
   "metadata": {},
   "outputs": [],
   "source": [
    "def get_regex_matches(item, pattern):\n",
    "    text, key = item\n",
    "    res = []\n",
    "    for match in pattern.finditer(text):\n",
    "        match_text = match[0]\n",
    "        match_text_suffix = get_first_word(text[match.end():])\n",
    "        match_text_prefix = get_first_word(text[:match.start()], reverse=True)\n",
    "        res.append(dict(\n",
    "            title=key.split('_')[0],\n",
    "            year=key.split('_')[1],\n",
    "            key=key,\n",
    "            match=match_text,\n",
    "            match_long=match_text_prefix+match_text+match_text_suffix,\n",
    "            context=text,\n",
    "            start=match.start(),\n",
    "            end=match.end(),\n",
    "        ))\n",
    "    return res"
   ]
  },
  {
   "cell_type": "code",
   "execution_count": null,
   "id": "152a5181-4e3d-42a4-bacd-200a26e129b4",
   "metadata": {},
   "outputs": [],
   "source": [
    "def run_pattern(pattern, year):\n",
    "    res = []\n",
    "    \n",
    "    files = sorted(glob(f'../../legal-networks-data/us/2_xml/**_{year}.xml'))\n",
    "\n",
    "    for f in files:\n",
    "        tree = etree.parse(f)\n",
    "        replace_reference_elements(tree)\n",
    "\n",
    "        items = list(get_text_and_keys(tree))\n",
    "        \n",
    "        context = multiprocessing.get_context('fork')\n",
    "        with context.Pool() as p:\n",
    "            matches_nested = p.starmap(get_regex_matches, [(i, pattern) for i in items])\n",
    "\n",
    "        res.extend(itertools.chain.from_iterable(matches_nested))\n",
    "    return res"
   ]
  },
  {
   "cell_type": "code",
   "execution_count": null,
   "id": "876d899d-cf85-4a50-be48-c3e68ef48d38",
   "metadata": {},
   "outputs": [],
   "source": [
    "def save_txt_inspection(res, filename, prefix_len=100, suffix_len=100):\n",
    "    with open(filename, 'w') as f:\n",
    "        for r in res:\n",
    "            prefix = r['context'][max(0, r['start'] - prefix_len): r['start']]\n",
    "            prefix = prefix.rjust(prefix_len)\n",
    "            suffix = r['context'][r['end'] :r['end'] + suffix_len]\n",
    "            text = r['context'][r['start']:r['end']]\n",
    "            f.write(r['key'] + ' - ' + prefix + '|||' + text + '|||' + suffix + '\\n')"
   ]
  },
  {
   "cell_type": "code",
   "execution_count": null,
   "id": "50e0c0c9-b909-4c1c-944f-de1289c942ba",
   "metadata": {},
   "outputs": [],
   "source": [
    "def str_to_int_hash(text):\n",
    "    a = hashlib.md5(text.encode('utf8'))\n",
    "    b = a.hexdigest()\n",
    "    as_int = int(b, 16)\n",
    "    return as_int\n",
    "\n",
    "\n",
    "def run_analysis(pattern, pattern_name, random_sample=True):\n",
    "    os.makedirs('../data/patterns/', exist_ok=True)\n",
    "    for year in years:\n",
    "        res = run_pattern(pattern, year)\n",
    "        df = pd.DataFrame(res)\n",
    "        df.to_csv(f'../data/patterns/{pattern_name}_{year}.csv', index=False)\n",
    "        save_txt_inspection(res, f'../data/patterns/{pattern_name}_{year}.txt', prefix_len=100, suffix_len=100)\n",
    "        random.seed(year + str_to_int_hash(pattern_name))\n",
    "        random_draw = random.sample(res, min(100, len(res)))\n",
    "        save_txt_inspection(\n",
    "            random_draw,\n",
    "            f'../data/patterns/{pattern_name}_{year}_random_sample.txt', \n",
    "            prefix_len=100, \n",
    "            suffix_len=100\n",
    "        )"
   ]
  },
  {
   "cell_type": "markdown",
   "id": "a5fdcb7d-1edd-4e85-ab95-53e3393a7090",
   "metadata": {},
   "source": [
    "# Run sesitivity analysis"
   ]
  },
  {
   "cell_type": "code",
   "execution_count": null,
   "id": "333e57ec-1eb2-4dd5-873c-8bedc84fa9d4",
   "metadata": {
    "tags": []
   },
   "outputs": [],
   "source": [
    "def get_and_or_pattern(max_distance):\n",
    "    return re.compile(\n",
    "        r'\\band\\b[\\s\\w]{1,max_distance}\\bor\\b|\\bor\\b[\\s\\w]{1,max_distance}\\band\\b'.replace(\n",
    "        'max_distance', str(max_distance)\n",
    "    ))\n",
    "\n",
    "for max_distance in range(10, 100, 10):\n",
    "    run_analysis(\n",
    "        get_and_or_pattern(max_distance), \n",
    "        f'and_or_pattern_{max_distance}', \n",
    "        random_sample=False\n",
    "    )\n",
    "    print('Completed', max_distance)"
   ]
  },
  {
   "cell_type": "markdown",
   "id": "16769f95-7c56-46a9-b4e9-aec3dcd402ef",
   "metadata": {},
   "source": [
    "# \"and\", \"or\" in same text fragment"
   ]
  },
  {
   "cell_type": "code",
   "execution_count": null,
   "id": "3b062506-ef07-4936-aa2e-0856ea79211f",
   "metadata": {},
   "outputs": [],
   "source": [
    "and_or_pattern = re.compile(r'\\band\\b[\\s\\w]{1,50}\\bor\\b|\\bor\\b[\\s\\w]{1,50}\\band\\b')\n",
    "get_regex_matches([\n",
    "    'The circumstances and conditions under which the list or manifest.',\n",
    "    '080_1994_001657'\n",
    "], and_or_pattern)"
   ]
  },
  {
   "cell_type": "code",
   "execution_count": null,
   "id": "56b7982d-4152-4387-ac3a-22d4ed611051",
   "metadata": {
    "scrolled": true,
    "tags": []
   },
   "outputs": [],
   "source": [
    "run_analysis(and_or_pattern, 'and_or_pattern')"
   ]
  },
  {
   "cell_type": "markdown",
   "id": "83dc2da5-7aac-40b0-99f3-710baccd6ca8",
   "metadata": {},
   "source": [
    "# \"or\", \"or\" in same text fragment"
   ]
  },
  {
   "cell_type": "code",
   "execution_count": null,
   "id": "376de821-f91c-4713-9f4a-92f0a5183d53",
   "metadata": {},
   "outputs": [],
   "source": [
    "or_or_pattern = re.compile(r'\\bor\\b[\\s\\w]{1,50}\\bor\\b')\n",
    "get_regex_matches([\n",
    "    'The circumstances or conditions under which the list or manifest.',\n",
    "    '080_1994_001657'\n",
    "], or_or_pattern)"
   ]
  },
  {
   "cell_type": "code",
   "execution_count": null,
   "id": "be5ae39a-fb25-4036-b168-278fa6ed8469",
   "metadata": {
    "scrolled": true,
    "tags": []
   },
   "outputs": [],
   "source": [
    "run_analysis(or_or_pattern, 'or_or_pattern')"
   ]
  },
  {
   "cell_type": "markdown",
   "id": "7b3dfdb8-f607-4d5b-9340-e12373007f2d",
   "metadata": {},
   "source": [
    "# \"and\", \"and\" in same text fragment"
   ]
  },
  {
   "cell_type": "code",
   "execution_count": null,
   "id": "73bfe2ef-729e-44ad-a27e-941ada6101b4",
   "metadata": {},
   "outputs": [],
   "source": [
    "and_and_pattern = re.compile(r'\\band\\b[\\s\\w]{1,50}\\band\\b')\n",
    "get_regex_matches([\n",
    "    'The circumstances and conditions under which the list and manifest.',\n",
    "    '080_1994_001657'\n",
    "], and_and_pattern)"
   ]
  },
  {
   "cell_type": "code",
   "execution_count": null,
   "id": "0ae7af97-d158-491a-8c23-0668d926d011",
   "metadata": {
    "scrolled": true,
    "tags": []
   },
   "outputs": [],
   "source": [
    "run_analysis(and_and_pattern, 'and_and_pattern')"
   ]
  },
  {
   "cell_type": "markdown",
   "id": "ac9e13de-d658-4fdc-81d2-34b8486ec429",
   "metadata": {},
   "source": [
    "# \"and/or\""
   ]
  },
  {
   "cell_type": "code",
   "execution_count": null,
   "id": "fada69e5-089e-4727-8508-e2467df9e2d9",
   "metadata": {},
   "outputs": [],
   "source": [
    "and_slash_or_pattern = re.compile(r'\\band\\s?/\\s?or\\b')\n",
    "get_regex_matches([\n",
    "    'The circumstances and/or conditions under which the list or manifest.',\n",
    "    '080_1994_001657'\n",
    "], and_slash_or_pattern)"
   ]
  },
  {
   "cell_type": "code",
   "execution_count": null,
   "id": "3c47987c-3559-4145-8d8b-33c15f0ff739",
   "metadata": {
    "scrolled": true,
    "tags": []
   },
   "outputs": [],
   "source": [
    "run_analysis(and_slash_or_pattern, 'and_slash_or_pattern')"
   ]
  },
  {
   "cell_type": "markdown",
   "id": "2347feff-9e38-42ce-8bc7-fcbad584a759",
   "metadata": {},
   "source": [
    "# \"or both\""
   ]
  },
  {
   "cell_type": "code",
   "execution_count": null,
   "id": "588d4f0c-5dc6-4580-bba3-e8e0d1445606",
   "metadata": {},
   "outputs": [],
   "source": [
    "or_both_pattern = re.compile(r'\\bor\\b.{1,50}?\\sor\\sboth\\b')\n",
    "get_regex_matches([\n",
    "    'Conditions under which the list or manifest, or both.',\n",
    "    '080_1994_001657'\n",
    "], or_both_pattern)"
   ]
  },
  {
   "cell_type": "code",
   "execution_count": null,
   "id": "d8d675bd-dfd7-4b4a-8da7-6ec6d9680349",
   "metadata": {
    "scrolled": true,
    "tags": []
   },
   "outputs": [],
   "source": [
    "run_analysis(or_both_pattern, 'or_both_pattern')"
   ]
  },
  {
   "cell_type": "markdown",
   "id": "0c9349af-09fa-450f-b4bd-b04ace5a21d6",
   "metadata": {},
   "source": [
    "# No ... {and,or}"
   ]
  },
  {
   "cell_type": "code",
   "execution_count": null,
   "id": "1ed15967-694a-4ac6-aad0-2f178b4c7975",
   "metadata": {},
   "outputs": [],
   "source": [
    "no_and_or_pattern = re.compile(r'\\bno\\b.{1,50}\\b(and|or)\\b')\n",
    "get_regex_matches([\n",
    "    'The no circumstances and conditions under which the list or manifest.',\n",
    "    '080_1994_001657'\n",
    "], no_and_or_pattern)"
   ]
  },
  {
   "cell_type": "code",
   "execution_count": null,
   "id": "170881b1-4ea6-4175-95bf-33ec467cb2b1",
   "metadata": {
    "scrolled": true,
    "tags": []
   },
   "outputs": [],
   "source": [
    "run_analysis(no_and_or_pattern, 'no_and_or_pattern')"
   ]
  },
  {
   "cell_type": "markdown",
   "id": "ff317f95-2229-46bc-89b8-2f31c61fae8e",
   "metadata": {},
   "source": [
    "# Not ... {and,or}"
   ]
  },
  {
   "cell_type": "code",
   "execution_count": null,
   "id": "8892e8d1-d1ad-4f92-9914-1d51a322a229",
   "metadata": {},
   "outputs": [],
   "source": [
    "not_and_or_pattern = re.compile(r'\\bnot\\b.{1,50}\\b(and|or)\\b')\n",
    "get_regex_matches([\n",
    "    'The not circumstances and conditions under which the list or manifest.',\n",
    "    '080_1994_001657'\n",
    "], not_and_or_pattern)"
   ]
  },
  {
   "cell_type": "code",
   "execution_count": null,
   "id": "c9d65b73-4601-47f3-816f-56e7bdf09106",
   "metadata": {
    "scrolled": true,
    "tags": []
   },
   "outputs": [],
   "source": [
    "run_analysis(not_and_or_pattern, 'not_and_or_pattern')"
   ]
  },
  {
   "cell_type": "markdown",
   "id": "6509624f-0abe-4008-a14e-ce74856db387",
   "metadata": {},
   "source": [
    "# {or,and} ... unless"
   ]
  },
  {
   "cell_type": "code",
   "execution_count": null,
   "id": "d50b2171-5bd8-42ee-8266-d71ab19c3d02",
   "metadata": {},
   "outputs": [],
   "source": [
    "unless_pattern = re.compile(r'\\b(or|and)\\b.{3,50}\\bunless\\b')\n",
    "get_regex_matches([\n",
    "    'The not circumstances and conditions unless it is less than',\n",
    "    '080_1994_001657'\n",
    "], unless_pattern)"
   ]
  },
  {
   "cell_type": "code",
   "execution_count": null,
   "id": "89c250a9-724a-4d5a-97d9-5d170ed252e7",
   "metadata": {
    "scrolled": true,
    "tags": []
   },
   "outputs": [],
   "source": [
    "run_analysis(unless_pattern, 'unless_pattern')"
   ]
  },
  {
   "cell_type": "markdown",
   "id": "d3983422-8577-4e33-b22c-9fda7a9b1550",
   "metadata": {},
   "source": [
    "# {or,and} ... except"
   ]
  },
  {
   "cell_type": "code",
   "execution_count": null,
   "id": "65903b17-6481-4405-aa29-5d261985c9bc",
   "metadata": {},
   "outputs": [],
   "source": [
    "except_pattern = re.compile(r'\\b(or|and)\\b.{3,50}\\bexcept\\b')\n",
    "get_regex_matches([\n",
    "    'The not circumstances and conditions except it is less than',\n",
    "    '080_1994_001657'\n",
    "], except_pattern)"
   ]
  },
  {
   "cell_type": "code",
   "execution_count": null,
   "id": "cbb0855e-1d62-446e-a630-606389a7014e",
   "metadata": {
    "scrolled": true,
    "tags": []
   },
   "outputs": [],
   "source": [
    "run_analysis(except_pattern, 'except_pattern')"
   ]
  },
  {
   "cell_type": "markdown",
   "id": "8cb16ef1-ebed-471c-80cf-5137033364db",
   "metadata": {},
   "source": [
    "# {or,and} ... but not"
   ]
  },
  {
   "cell_type": "code",
   "execution_count": null,
   "id": "d21a5092-49da-4baa-848b-2136836b4ae3",
   "metadata": {},
   "outputs": [],
   "source": [
    "but_not_pattern = re.compile(r'\\b(or|and)\\b.{3,50}\\bbut\\snot\\b')\n",
    "get_regex_matches([\n",
    "    'The not circumstances or conditions but not it is less than',\n",
    "    '080_1994_001657'\n",
    "], but_not_pattern)"
   ]
  },
  {
   "cell_type": "code",
   "execution_count": null,
   "id": "b2cc8001-6268-4412-ba5d-6dab1050d5fb",
   "metadata": {
    "scrolled": true,
    "tags": []
   },
   "outputs": [],
   "source": [
    "run_analysis(but_not_pattern, 'but_not_pattern')"
   ]
  },
  {
   "cell_type": "markdown",
   "id": "b87a5c23-e571-4a2c-ad9c-027abb4a1835",
   "metadata": {},
   "source": [
    "# {or,and} ... notwithstanding"
   ]
  },
  {
   "cell_type": "code",
   "execution_count": null,
   "id": "e1aab26a-707f-4182-ad07-77fefc1133df",
   "metadata": {},
   "outputs": [],
   "source": [
    "notwithstanding_pattern = re.compile(r'\\b(or|and)\\b.{3,50}\\bnotwithstanding\\b')\n",
    "get_regex_matches([\n",
    "    'The not circumstances or conditions notwithstanding it is less than',\n",
    "    '080_1994_001657'\n",
    "], notwithstanding_pattern)"
   ]
  },
  {
   "cell_type": "code",
   "execution_count": null,
   "id": "3cc113eb-5fbe-495f-879d-9c8fd8b56750",
   "metadata": {
    "scrolled": true,
    "tags": []
   },
   "outputs": [],
   "source": [
    "run_analysis(notwithstanding_pattern, 'notwithstanding_pattern')"
   ]
  }
 ],
 "metadata": {
  "kernelspec": {
   "display_name": "Python 3",
   "language": "python",
   "name": "python3"
  },
  "language_info": {
   "codemirror_mode": {
    "name": "ipython",
    "version": 3
   },
   "file_extension": ".py",
   "mimetype": "text/x-python",
   "name": "python",
   "nbconvert_exporter": "python",
   "pygments_lexer": "ipython3",
   "version": "3.8.10"
  }
 },
 "nbformat": 4,
 "nbformat_minor": 5
}

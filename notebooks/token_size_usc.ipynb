{
 "cells": [
  {
   "cell_type": "code",
   "execution_count": null,
   "id": "7a4099ee-956b-43b3-806d-5ddc9557eed6",
   "metadata": {},
   "outputs": [],
   "source": [
    "import networkx as nx\n",
    "import json\n",
    "\n",
    "def get_token_size(year):\n",
    "    g = nx.read_gpickle(\n",
    "        f\"../../legal-networks-data/us/4_crossreference_graph/detailed/seqitems/{year}.gpickle.gz\"\n",
    "    )\n",
    "    return {\n",
    "        int(n[:2]): int(d[\"tokens_n\"]) for n, d in g.nodes(data=True) if d[\"level\"] == 0\n",
    "    }\n",
    "\n",
    "\n",
    "token_size = {int(y): get_token_size(y) for y in range(1998, 2019 + 1)}\n",
    "\n",
    "with open('../data/corpus_size_token_us.json', 'w') as f:\n",
    "    json.dump(token_size, f, indent=4)"
   ]
  }
 ],
 "metadata": {
  "kernelspec": {
   "display_name": "Python 3",
   "language": "python",
   "name": "python3"
  },
  "language_info": {
   "codemirror_mode": {
    "name": "ipython",
    "version": 3
   },
   "file_extension": ".py",
   "mimetype": "text/x-python",
   "name": "python",
   "nbconvert_exporter": "python",
   "pygments_lexer": "ipython3",
   "version": "3.8.0"
  }
 },
 "nbformat": 4,
 "nbformat_minor": 5
}

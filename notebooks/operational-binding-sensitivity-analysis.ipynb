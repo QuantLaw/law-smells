{
 "cells": [
  {
   "cell_type": "code",
   "execution_count": null,
   "id": "79732edc-8dc8-4a74-bde5-0acfff73815e",
   "metadata": {},
   "outputs": [],
   "source": [
    "import networkx as nx\n",
    "import json\n",
    "import pandas as pd\n",
    "from glob import glob\n",
    "import re\n",
    "import seaborn as sns\n",
    "import matplotlib.pyplot as plt\n",
    "import matplotlib.ticker\n",
    "from collections import Counter\n",
    "import numpy as np\n",
    "import json"
   ]
  },
  {
   "cell_type": "code",
   "execution_count": null,
   "id": "7514cf59-a5c0-4a70-9e6a-81a490103b0e",
   "metadata": {},
   "outputs": [],
   "source": [
    "%matplotlib inline"
   ]
  },
  {
   "cell_type": "code",
   "execution_count": null,
   "id": "dfb26feb-929a-41b2-928f-04364e9bd07f",
   "metadata": {},
   "outputs": [],
   "source": [
    "sns.set_style('whitegrid')\n",
    "plt.rcParams[\"font.family\"] = \"serif\"\n",
    "plt.rcParams[\"font.serif\"] = \"Times New Roman\"\n",
    "plt.rcParams[\"font.size\"] = 36\n",
    "plt.rcParams[\"mathtext.fontset\"] = \"stix\""
   ]
  },
  {
   "cell_type": "code",
   "execution_count": null,
   "id": "7acc2c78-a965-42b9-b09e-4954c06d79d6",
   "metadata": {},
   "outputs": [],
   "source": [
    "# May be skipped if statistics already generated\n",
    "filenames = sorted(glob('../data/patterns/and_or_pattern_*_2019.csv'))\n",
    "\n",
    "max_distance = [\n",
    "    int(re.fullmatch(r'.+pattern_(\\d+)_2019.csv', f)[1]) for f in filenames\n",
    "]\n",
    "\n",
    "matches_count = [\n",
    "    len(pd.read_csv(f)) for f in filenames\n",
    "]\n",
    "\n",
    "with open('../data/pattern_and_or_2019_statistics.json', 'w') as f:\n",
    "    json.dump(dict(max_distance=max_distance, matches_count=matches_count), f)"
   ]
  },
  {
   "cell_type": "code",
   "execution_count": null,
   "id": "49eee4f7-a540-441c-868f-8cd78ecca9a3",
   "metadata": {},
   "outputs": [],
   "source": [
    "with open('../data/pattern_and_or_2019_statistics.json') as f:\n",
    "    data = json.load(f)\n",
    "    max_distance = data['max_distance']\n",
    "    matches_count = data['matches_count']"
   ]
  },
  {
   "cell_type": "code",
   "execution_count": null,
   "id": "b2f5f1a6-dd75-4d8d-a22d-9161ee5de60f",
   "metadata": {},
   "outputs": [],
   "source": [
    "plt.figure(figsize=(9,6))\n",
    "plt.plot(max_distance, matches_count, marker='.')\n",
    "plt.title('and...or|or...and')\n",
    "plt.ylabel('Matches found in 2019')\n",
    "plt.xlabel('Max dinstance between operators in charaters')\n",
    "plt.xticks(range(10,100,10))\n",
    "plt.savefig('../writing/figures/operator_patterns_us_and_or_sensitivity.pdf', bbox_inches='tight')"
   ]
  }
 ],
 "metadata": {
  "kernelspec": {
   "display_name": "Python 3",
   "language": "python",
   "name": "python3"
  },
  "language_info": {
   "codemirror_mode": {
    "name": "ipython",
    "version": 3
   },
   "file_extension": ".py",
   "mimetype": "text/x-python",
   "name": "python",
   "nbconvert_exporter": "python",
   "pygments_lexer": "ipython3",
   "version": "3.8.10"
  }
 },
 "nbformat": 4,
 "nbformat_minor": 5
}

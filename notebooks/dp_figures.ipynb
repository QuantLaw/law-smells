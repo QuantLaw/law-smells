{
 "cells": [
  {
   "cell_type": "code",
   "execution_count": null,
   "id": "8b351209-5c9a-4531-8b62-7b08ba7d0abe",
   "metadata": {},
   "outputs": [],
   "source": [
    "import os\n",
    "import pandas as pd\n",
    "import numpy as np\n",
    "import matplotlib.pyplot as plt\n",
    "import seaborn as sns\n",
    "sns.set_style(\"whitegrid\")"
   ]
  },
  {
   "cell_type": "code",
   "execution_count": null,
   "id": "431ce23d-b41b-42b7-a0a7-d9c57c12ae4a",
   "metadata": {},
   "outputs": [],
   "source": [
    "%run smell_helpers.py"
   ]
  },
  {
   "cell_type": "code",
   "execution_count": null,
   "id": "f6f4a656-d184-437e-adf6-3dda56af9136",
   "metadata": {},
   "outputs": [],
   "source": [
    "corpus_sizes = {int(k):{int(k2):v2 for k2,v2 in v.items()} for k,v in load_json(\"../data/corpus_size_token_us.json\").items()}\n",
    "corpus_sizes[2019].keys()"
   ]
  },
  {
   "cell_type": "code",
   "execution_count": null,
   "id": "6b67bdec-e983-4c80-b800-efb071c8ad88",
   "metadata": {},
   "outputs": [],
   "source": [
    "df = pd.read_csv(\"../data/dupex_mf-10000_results_all-years.csv\", index_col=0)\n",
    "df[\"title_str\"] = df.title.map(str)\n",
    "df[\"compression_alt\"] = df.compression.map(lambda x:(1-x)*100)\n",
    "df = df.query(\"year >= 1998\").copy()\n",
    "df[\"n_tokens\"] = [corpus_sizes[y][t] for t,y in zip(df.title, df.year)]\n",
    "df = df.query(\"n_tokens > 0 and year >= 1998\").copy()"
   ]
  },
  {
   "cell_type": "code",
   "execution_count": null,
   "id": "8685463f-b2f4-4fd9-a08a-92206e298c77",
   "metadata": {},
   "outputs": [],
   "source": [
    "df_cdeltas = pd.DataFrame(columns=[\"min_year\", \"max_year\", \"c_delta_abs\", \"select_delta\", \"select_extreme\"])\n",
    "for title in df.title.unique():\n",
    "    df_partial = df.query(\"title == @title\")\n",
    "    if len(df_partial):\n",
    "        first = df_partial.iloc[0]\n",
    "        first_c = df_partial.compression.min()\n",
    "        first_y = df_partial.at[df_partial.compression.idxmin(),\"year\"]\n",
    "        last = df_partial.iloc[-1]\n",
    "        last_c = df_partial.compression.max()\n",
    "        last_y = df_partial.at[df_partial.compression.idxmax(),\"year\"]\n",
    "        c_delta_abs = abs(round(last_c - first_c,4))\n",
    "        df_cdeltas.loc[title] = (first_y, last_y, c_delta_abs,\n",
    "                                 c_delta_abs >= 0.02, # LARGE DELTAS\n",
    "                                 all(df_partial.compression < 0.75) or all(df_partial.compression > 0.85) # EXTREME COMPRESSIBILITY VALUES IN GENERAL\n",
    "                                )\n",
    "df_cdeltas.sort_values(\"c_delta_abs\", ascending=False)"
   ]
  },
  {
   "cell_type": "code",
   "execution_count": null,
   "id": "96f74dcf-3a09-40f9-b600-91553adede9a",
   "metadata": {},
   "outputs": [],
   "source": [
    "selected_titles = df_cdeltas.query(\"select_delta\").index\n",
    "len(selected_titles)"
   ]
  },
  {
   "cell_type": "code",
   "execution_count": null,
   "id": "f3f1c9ce-92e5-4f95-89d1-25266ea3710d",
   "metadata": {},
   "outputs": [],
   "source": [
    "extreme_titles = df_cdeltas.query(\"select_extreme\").index\n",
    "len(extreme_titles)"
   ]
  },
  {
   "cell_type": "code",
   "execution_count": null,
   "id": "5546d153-9e07-4ab2-a17f-563fd989c37d",
   "metadata": {},
   "outputs": [],
   "source": [
    "fontsize = 36\n",
    "plt.rcParams[\"font.family\"] = \"serif\"\n",
    "plt.rcParams[\"font.serif\"] = \"Times New Roman\"\n",
    "plt.rcParams[\"mathtext.fontset\"] = \"stix\"\n",
    "fig, ax = plt.subplots(1,2,figsize=(24,9))\n",
    "sns.lineplot(data=df.query(\"title in @selected_titles\"), \n",
    "             x=\"year\", y=\"compression_alt\", hue=\"title_str\", ax=ax[0], palette=['#a6cee3','#1f78b4','#b2df8a','#33a02c','#fb9a99','#e31a1c','#fdbf6f','#ff7f00','#cab2d6','#6a3d9a','#b15928'],#\"tab20\", \n",
    "             markers=[\"o\"]*len(df.query(\"title in @selected_titles and n_tokens > 0\").title_str.unique()), \n",
    "             dashes=False, lw=2,\n",
    "             style=\"title_str\")\n",
    "sns.lineplot(data=df.query(\"title not in @selected_titles and title not in @extreme_titles\"), \n",
    "             x=\"year\", y=\"compression_alt\", hue=\"title_str\", ax=ax[1], \n",
    "             palette={t:\"k\" for t in df.title_str.unique()}, legend=False)\n",
    "sns.lineplot(data=df.query(\"title not in @selected_titles and title in @extreme_titles\"), \n",
    "             x=\"year\", y=\"compression_alt\", hue=\"title_str\", ax=ax[1], palette=['#1b9e77','#d95f02','#7570b3','#e7298a','#66a61e','#e6ab02','#a6761d'],#\"tab10_r\", \n",
    "             markers=[\"o\"]*len(df.query(\"title not in @selected_titles and title in @extreme_titles\").title_str.unique()), \n",
    "             dashes=False, lw=2,\n",
    "             style=\"title_str\")\n",
    "ax[0].legend(title=\"Title\", ncol=3, fontsize=fontsize-8, title_fontsize=fontsize-4, labelspacing=0.2, loc=\"upper left\")\n",
    "ax[1].legend(title=\"Title\", ncol=2, fontsize=fontsize-8, title_fontsize=fontsize-4, labelspacing=0.2)\n",
    "for ax in [ax[0], ax[1]]:\n",
    "    ax.set_ylim(-2.5,42.5)\n",
    "    yticks = [round(x,2) for x in np.arange(0,41,5)]\n",
    "    ax.set_yticks(yticks)\n",
    "    ax.set_yticklabels([f\"${x}\\%$\" for x in yticks], fontsize=fontsize)\n",
    "    xticks = range(1998,2020,3)\n",
    "    ax.set_xticks(xticks)\n",
    "    ax.set_xticklabels(xticks, fontsize=fontsize)\n",
    "    ax.set_xlabel(\"Year\", fontsize=fontsize)\n",
    "    ax.set_ylabel(\"Compression\", fontsize=fontsize)\n",
    "    ax.set_xlim(1998-0.75,2019+0.75)\n",
    "plt.tight_layout()\n",
    "plt.savefig(\"../writing/figures/dp-compression.pdf\", transparent=True)"
   ]
  },
  {
   "cell_type": "markdown",
   "id": "a72767aa-ce59-4c56-9616-98f861a8756a",
   "metadata": {},
   "source": [
    "### Table Numbers"
   ]
  },
  {
   "cell_type": "code",
   "execution_count": null,
   "id": "3774aa12-a5e6-4521-a3df-4ba8c38bb312",
   "metadata": {},
   "outputs": [],
   "source": [
    "import regex as re\n",
    "from collections import Counter"
   ]
  },
  {
   "cell_type": "code",
   "execution_count": null,
   "id": "8aea3654-1ca6-49f6-a5e2-07077ba27d57",
   "metadata": {},
   "outputs": [],
   "source": [
    "patterns = {\n",
    "    \"fpt\": \"for_(?:the_)?purposes_of_this_\\w+\",\n",
    "    \"ear\": \"except_as_(?:defined|provided)_(?:by|in)_[{]reference[}]\",\n",
    "    \"aba\": \"there_(?:are|is)_authorized_to_be_appropriated\",\n",
    "    \"mbn\": \"as_may_be_necessary_to_carry_out_the\",\n",
    "    \"ttm\": \"the_term_[{]term[}]_means\",\n",
    "    \"s1\": \"bureau_of_citizenship_and_immigration_services\",\n",
    "    \"s2\": \"natural_disasters_,_acts_of_terrorism_,_\",\n",
    "    \"s3\": \"the_committee_on_homeland_security_(?:and_governmental_affairs_of_the_senate|of_the_house_of_representatives)\",\n",
    "    \"s4\": \"cyber_threat_indicators_(?:and|or)_defensive_measures\",\n",
    "    \"s5\": \"weapons_of_mass_destruction_information\",\n",
    "}"
   ]
  },
  {
   "cell_type": "code",
   "execution_count": null,
   "id": "0bde08f6-c8d8-4e66-ac86-a61bfd832987",
   "metadata": {
    "scrolled": true,
    "tags": []
   },
   "outputs": [],
   "source": [
    "path = \"../dupex_mf-10000_results\"\n",
    "files = get_files(path, \"_2019.json\")\n",
    "results = {k:{} for k in patterns.keys()}\n",
    "for file in files:\n",
    "    print(file)\n",
    "    data = load_json(f\"{path}/{file}\")\n",
    "    seq = data[\"current_sequence\"]\n",
    "    for k,p in patterns.items():\n",
    "        res = [t for t in seq if re.search(p,t)]\n",
    "        results[k][int(file[:2])] = dict(Counter(res))\n",
    "        if res:\n",
    "            print(file, k, len(res), len(results[k][int(file[:2])].keys()))"
   ]
  },
  {
   "cell_type": "code",
   "execution_count": null,
   "id": "5c3f0a9e-d637-4d8e-9093-2dc4e31a63ec",
   "metadata": {},
   "outputs": [],
   "source": [
    "df_generic_patterns = pd.DataFrame(results)"
   ]
  },
  {
   "cell_type": "code",
   "execution_count": null,
   "id": "875c5a9b-6b0e-46ce-b0bc-c5557fe22ec0",
   "metadata": {},
   "outputs": [],
   "source": [
    "df_generic_patterns_melted = df_generic_patterns.melt(var_name=\"pattern\", value_name=\"instances\")\n",
    "df_generic_patterns_melted"
   ]
  },
  {
   "cell_type": "code",
   "execution_count": null,
   "id": "270b2a0d-cd2f-4f79-969c-3255c3df3b1d",
   "metadata": {},
   "outputs": [],
   "source": [
    "rows = []\n",
    "for col in df_generic_patterns.columns:\n",
    "    for idx,row in df_generic_patterns[col].items():\n",
    "        for instance, count in row.items():\n",
    "            rows.append([idx,col,instance,count])"
   ]
  },
  {
   "cell_type": "code",
   "execution_count": null,
   "id": "832620f9-b96c-4cf7-aec1-0c5f8de01f24",
   "metadata": {},
   "outputs": [],
   "source": []
  },
  {
   "cell_type": "code",
   "execution_count": null,
   "id": "ecc0895f-fc06-409f-9be0-bf9a0e51ed23",
   "metadata": {},
   "outputs": [],
   "source": [
    "long_df_generic_patterns = pd.DataFrame(rows, columns=[\"title\",\"pattern\",\"instance\",\"count_absolute\"])\n",
    "long_df_generic_patterns[\"count_relative\"] = [c/(corpus_sizes[2019][t]/1000) for t,c in zip(long_df_generic_patterns.title, long_df_generic_patterns.count_absolute)]"
   ]
  },
  {
   "cell_type": "code",
   "execution_count": null,
   "id": "09b680b5-e2b6-4687-8ee3-0a4c8fa7c181",
   "metadata": {},
   "outputs": [],
   "source": [
    "long_df_generic_patterns_grouped = long_df_generic_patterns.groupby([\"title\",\"pattern\"]).sum().reset_index().sort_values(\"count_relative\", ascending=False)\n",
    "long_df_generic_patterns_grouped"
   ]
  },
  {
   "cell_type": "code",
   "execution_count": null,
   "id": "64e1f8d3-bdf6-409d-8963-8b6a9246e781",
   "metadata": {},
   "outputs": [],
   "source": [
    "long_df_generic_patterns_grouped.pattern.unique()"
   ]
  },
  {
   "cell_type": "code",
   "execution_count": null,
   "id": "d534779b-bb15-4291-9a7c-ad7d2d2d6586",
   "metadata": {},
   "outputs": [],
   "source": [
    "long_df_generic_patterns_grouped.query(\"pattern == 'ttm'\")"
   ]
  },
  {
   "cell_type": "code",
   "execution_count": null,
   "id": "6bd64fbd-f6c6-44b4-ba7f-f70f05cfed62",
   "metadata": {},
   "outputs": [],
   "source": []
  }
 ],
 "metadata": {
  "kernelspec": {
   "display_name": "Python 3",
   "language": "python",
   "name": "python3"
  },
  "language_info": {
   "codemirror_mode": {
    "name": "ipython",
    "version": 3
   },
   "file_extension": ".py",
   "mimetype": "text/x-python",
   "name": "python",
   "nbconvert_exporter": "python",
   "pygments_lexer": "ipython3",
   "version": "3.8.0"
  }
 },
 "nbformat": 4,
 "nbformat_minor": 5
}

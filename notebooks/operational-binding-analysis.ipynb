{
 "cells": [
  {
   "cell_type": "code",
   "execution_count": null,
   "id": "a938a377-aa49-4741-a140-41de24e4b8d5",
   "metadata": {},
   "outputs": [],
   "source": [
    "import networkx as nx\n",
    "import json\n",
    "import pandas as pd\n",
    "from glob import glob\n",
    "import re\n",
    "import seaborn as sns\n",
    "import matplotlib.pyplot as plt\n",
    "import matplotlib.ticker\n",
    "from collections import Counter, OrderedDict\n",
    "import numpy as np\n",
    "import os"
   ]
  },
  {
   "cell_type": "code",
   "execution_count": null,
   "id": "f1edd4d3-e8ca-4257-8a47-00515d5d7ae1",
   "metadata": {},
   "outputs": [],
   "source": [
    "%matplotlib inline"
   ]
  },
  {
   "cell_type": "code",
   "execution_count": null,
   "id": "27488fce-0654-4f34-8fed-aaeefbce17e4",
   "metadata": {},
   "outputs": [],
   "source": [
    "sns.set_style('whitegrid')\n",
    "plt.rcParams[\"font.family\"] = \"serif\"\n",
    "plt.rcParams[\"font.serif\"] = \"Times New Roman\"\n",
    "plt.rcParams[\"font.size\"] = 24\n",
    "plt.rcParams[\"mathtext.fontset\"] = \"stix\"\n",
    "plt.rcParams[\"legend.labelspacing\"] = 0.1"
   ]
  },
  {
   "cell_type": "code",
   "execution_count": null,
   "id": "161e9aae-cd0b-46b3-88e6-4a3141f6a6f9",
   "metadata": {},
   "outputs": [],
   "source": [
    "def splitted_plot(*dfs):\n",
    "    fig, axs = plt.subplots(2,1, sharex=True, figsize=(9,6))\n",
    "    \n",
    "    color_cycle = plt.rcParams['axes.prop_cycle']()\n",
    "    for df_n, ax_n in zip(dfs, axs):\n",
    "        for col in df_n:\n",
    "            ax_n.plot(df_n.index, df_n[col], label=col, **next(color_cycle), marker='o', lw=2, markeredgecolor='w')\n",
    "            ax_n.set_xticks(range(1998,2020,3))\n",
    "            handles, labels = ax_n.get_legend_handles_labels()\n",
    "            ax_n.legend(handles, [all_patterns[p] for p in labels], loc='center left', bbox_to_anchor=(1.0, 0.5))\n",
    "    return fig, axs"
   ]
  },
  {
   "cell_type": "markdown",
   "id": "7d486044-af53-43cb-9d72-638f03a32cad",
   "metadata": {},
   "source": [
    "## Get size of US Code per year as reference size"
   ]
  },
  {
   "cell_type": "code",
   "execution_count": null,
   "id": "27253bf3-15af-4cdc-af5b-d680941f8949",
   "metadata": {},
   "outputs": [],
   "source": [
    "with open('../data/corpus_size_token_us.json') as f:\n",
    "    data = json.load(f)\n",
    "    data = {\n",
    "        int(a): {\n",
    "            int(c): d for c, d in b.items()\n",
    "        } for a, b in data.items()\n",
    "    }\n",
    "    token_size_df = pd.DataFrame(data, dtype=\"Int64\").sort_index()"
   ]
  },
  {
   "cell_type": "markdown",
   "id": "e1d82350-58cb-4624-ae36-ba0f5133899a",
   "metadata": {},
   "source": [
    "## Create dataframe\n",
    "\n",
    "Can be skipped if `../data/pattern_abs.csv` already generated"
   ]
  },
  {
   "cell_type": "code",
   "execution_count": null,
   "id": "4a149ca3-85c1-4145-8670-a30f626b8777",
   "metadata": {},
   "outputs": [],
   "source": [
    "def get_match_count(filepath):\n",
    "    try:\n",
    "        return dict(Counter(int(k[:2]) for k in pd.read_csv(filepath).key))\n",
    "    except FileNotFoundError:\n",
    "        print('File not found', filepath)\n",
    "        return dict()"
   ]
  },
  {
   "cell_type": "code",
   "execution_count": null,
   "id": "62b95936-037e-4235-ad71-c87afb231652",
   "metadata": {},
   "outputs": [],
   "source": [
    "years = range(1998,2019+1)"
   ]
  },
  {
   "cell_type": "code",
   "execution_count": null,
   "id": "04dbae4f-506d-4c10-8068-612fdcc94bee",
   "metadata": {},
   "outputs": [],
   "source": [
    "patterns = OrderedDict()\n",
    "patterns['and_or'] = 'and...or|or...and'\n",
    "patterns['not_and_or'] = 'not...(and|or)';\n",
    "patterns['no_and_or'] = 'no...(and|or)';\n",
    "patterns['unless'] = '(and|or)...unless';\n",
    "patterns['but_not'] = '(and|or)...but not';\n",
    "\n",
    "all_patterns = patterns.copy()\n",
    "all_patterns['and_slash_or'] = 'and/or'; # excluded from figure\n",
    "all_patterns['except'] = '(and|or)...except';\n",
    "all_patterns['notwithstanding'] = 'notwithstanding...(and|or)'; \n",
    "all_patterns['or_both'] = 'or...or both';  # excluded from figure\n",
    "all_patterns['or_or'] = 'or...or';\n",
    "all_patterns['and_and'] = 'and...and';"
   ]
  },
  {
   "cell_type": "code",
   "execution_count": null,
   "id": "22db283b-ed97-4fc2-a233-ea002368ca30",
   "metadata": {},
   "outputs": [],
   "source": [
    "data_dict = {\n",
    "    p: {\n",
    "        str(y): get_match_count(f'../data/patterns/{p}_pattern_{y}.csv')\n",
    "        for y in years\n",
    "    }\n",
    "    for p in all_patterns\n",
    "}\n",
    "df_abs_data = {\n",
    "    p: pd.DataFrame(data_dict[p])\n",
    "    for p in data_dict\n",
    "}\n",
    "df_abs = pd.concat(df_abs_data.values(), axis=1, keys=df_abs_data.keys())\n",
    "df_abs.to_csv('../data/pattern_abs.csv')"
   ]
  },
  {
   "cell_type": "markdown",
   "id": "728b15b4-5b3d-4a4b-a492-edcc9294e4ac",
   "metadata": {},
   "source": [
    "### Work with saved data"
   ]
  },
  {
   "cell_type": "code",
   "execution_count": null,
   "id": "69daa19e-fc14-4a27-a238-19d916eef255",
   "metadata": {},
   "outputs": [],
   "source": [
    "df_abs = pd.read_csv('../data/pattern_abs.csv', index_col=0, header=[0,1], dtype=\"Int64\").fillna(0)\n",
    "df_abs.columns = pd.MultiIndex.from_tuples([(p,int(y)) for p, y in df_abs.columns], names=df_abs.columns.names)\n",
    "df_abs.head()"
   ]
  },
  {
   "cell_type": "code",
   "execution_count": null,
   "id": "905cc580-9781-418a-908b-8808a0c3517c",
   "metadata": {},
   "outputs": [],
   "source": [
    "df_abs_sum = df_abs.sum().reset_index().pivot(index='level_1', columns='level_0', values=0)\n",
    "df_abs_sum.head()"
   ]
  },
  {
   "cell_type": "code",
   "execution_count": null,
   "id": "1397df4e-7b4c-465e-9117-38075c13ad9c",
   "metadata": {},
   "outputs": [],
   "source": [
    "df_rel = df_abs / pd.concat([token_size_df for _ in all_patterns.keys()], axis=1, keys=all_patterns.keys())\n",
    "df_rel = df_rel * 1000\n",
    "df_rel.head(5)"
   ]
  },
  {
   "cell_type": "code",
   "execution_count": null,
   "id": "d8324d70-4052-40da-aa4c-e15940a3a2d8",
   "metadata": {},
   "outputs": [],
   "source": [
    "df_rel_sum = df_abs_sum / pd.DataFrame({c: token_size_df.sum() for c in df_abs_sum.columns})\n",
    "df_rel_sum = df_rel_sum * 1000\n",
    "df_rel_sum.head()"
   ]
  },
  {
   "cell_type": "markdown",
   "id": "310fba9d-3b11-43e2-b168-d469b0cc495a",
   "metadata": {},
   "source": [
    "## Heatmap"
   ]
  },
  {
   "cell_type": "code",
   "execution_count": null,
   "id": "f96a83d2-0df0-4885-a423-041a1ccdeef3",
   "metadata": {
    "tags": []
   },
   "outputs": [],
   "source": [
    "df_heatmap = df_abs.copy()[patterns]\n",
    "df_heatmap.columns = df_heatmap.columns.swaplevel()\n",
    "df_heatmap = df_heatmap[2019]\n",
    "df_heatmap = df_heatmap.T\n",
    "\n",
    "# Frequency of pattern / token\n",
    "df_heatmap = df_heatmap / token_size_df[2019]\n",
    "\n",
    "#  Normalize over patterns\n",
    "df_heatmap = df_heatmap.T\n",
    "df_heatmap = df_heatmap / df_heatmap.max()\n",
    "df_heatmap = df_heatmap.T\n",
    "\n",
    "df_heatmap.index = [patterns[i] for i in df_heatmap.index]\n",
    "\n",
    "df_heatmap = df_heatmap.astype('float')\n",
    "fig, ax = plt.subplots(figsize=(18,6))\n",
    "sns.heatmap(df_heatmap, ax=ax)\n",
    "ax.set_xlabel('Title')\n",
    "# plt.savefig(\n",
    "#     f'../graphics/operator_patterns_heatmap_us_2019_titles.pdf', \n",
    "#     bbox_inches='tight'\n",
    "# )\n",
    "\n",
    "# Frequency of pattern in titles. Normalized for each pattern (row)"
   ]
  },
  {
   "cell_type": "markdown",
   "id": "016594f1-fbcc-47f3-a27d-b3ab9cb8c576",
   "metadata": {},
   "source": [
    "# Line Plots"
   ]
  },
  {
   "cell_type": "code",
   "execution_count": null,
   "id": "8b63771e-dda8-4049-80af-aefb52ba1c2c",
   "metadata": {},
   "outputs": [],
   "source": [
    "for abs_rel, df_abs_rel in [['abs', df_abs], ['rel', df_rel]]:\n",
    "    for pattern in all_patterns:\n",
    "        df_top = df_abs_rel[pattern].sort_values(\n",
    "            df_abs_rel.columns[-1][-1], ascending=False\n",
    "        )[:10]\n",
    "        for df, top in [[df_abs_rel[pattern], False], [df_top, True]]:\n",
    "            fig, ax = plt.subplots(figsize=(9,6))\n",
    "            df.sort_values(int(years[-1]), ascending=False).T.plot(\n",
    "                ax=ax, marker='.', title=all_patterns[pattern], alpha=.6\n",
    "            )\n",
    "            ax.legend(loc='center left', bbox_to_anchor=(1.0, 0.5), ncol=1 if top else 4)\n",
    "            ax.set_xticks(range(1998,2020,3))\n",
    "            ax.set_xlabel('Year')\n",
    "            if abs_rel == 'abs':\n",
    "                ax.set_ylabel('Occurrences')\n",
    "            elif abs_rel == 'rel':\n",
    "                ax.set_ylabel('Occurrences/1000 tokens')\n",
    "#             fig.savefig(\n",
    "#                 f'../graphics/operator_patterns_{abs_rel}{\"-top\" if top else \"\"}_us_{pattern}.pdf', \n",
    "#                 bbox_inches='tight'\n",
    "#             )\n",
    "            \n",
    "            if not top:\n",
    "                 plt.close(fig)"
   ]
  },
  {
   "cell_type": "code",
   "execution_count": null,
   "id": "59d30054-36c5-4e6a-a740-87ae32d6cd6d",
   "metadata": {},
   "outputs": [],
   "source": [
    "plt.rcParams[\"legend.labelspacing\"] = 0.2"
   ]
  },
  {
   "cell_type": "code",
   "execution_count": null,
   "id": "c00cfe7b-66eb-4168-9998-adfd9ff04817",
   "metadata": {},
   "outputs": [],
   "source": [
    "fig, ax = plt.subplots(figsize=(9,6))\n",
    "df_abs_sum.sort_values(int(years[-1]), axis=1, ascending=False).plot(ax=ax, marker='.')\n",
    "ax.set_xlabel('Year')\n",
    "ax.set_ylabel('Occurrences')\n",
    "ax.set_xticks(range(1998,2020,3))\n",
    "handles, labels = ax.get_legend_handles_labels()\n",
    "plt.legend(handles, [all_patterns[p] for p in labels], loc='center left', bbox_to_anchor=(1.0, 0.5))\n",
    "# plt.savefig('../graphics/operator_patterns_abs_us.pdf', bbox_inches='tight')"
   ]
  },
  {
   "cell_type": "code",
   "execution_count": null,
   "id": "7a0fa768-b0d8-41e0-952c-cda35d659ddc",
   "metadata": {},
   "outputs": [],
   "source": [
    "selected_patterns = [\n",
    "    #'and_slash_or', \n",
    "    'but_not', 'except', 'no_and_or', 'notwithstanding', #'or_both', \n",
    "    'unless'\n",
    "]"
   ]
  },
  {
   "cell_type": "code",
   "execution_count": null,
   "id": "90ffe7b2-3af5-42a0-8087-0ae215dadd7a",
   "metadata": {},
   "outputs": [],
   "source": [
    "fontsize = 24\n",
    "extra = 4"
   ]
  },
  {
   "cell_type": "code",
   "execution_count": null,
   "id": "105b0215-7291-4572-8802-6ba6078ebb8d",
   "metadata": {},
   "outputs": [],
   "source": [
    "df1 = df_abs_sum[['and_and', 'or_or', 'and_or', 'not_and_or']].sort_values(int(years[-1]), axis=1, ascending=False)\n",
    "df2 = df_abs_sum[selected_patterns].sort_values(int(years[-1]), axis=1, ascending=False)\n",
    "fig, ax = splitted_plot(df1, df2)\n",
    "ax[0].annotate(\"Number of Occurrences\", (-0.14,-0.11), fontsize=fontsize+extra, rotation=90, xycoords=\"axes fraction\", ha='center', va='center')\n",
    "ax[1].set_xlabel('Year', fontsize=fontsize+4)\n",
    "ax[0].set_yticks(range(20000,60001,10000))\n",
    "ax[0].set_yticklabels([f\"{x//1000} K\" for x in range(20000,60001,10000)])\n",
    "ax[0].set_ylim(16000,64000)\n",
    "ax[1].set_yticks(range(0,5001,1000))\n",
    "ax[1].set_yticklabels([f\"{x//1000} K\" for x in range(0,5001,1000)])\n",
    "ax[1].set_ylim(-500,5500)\n",
    "ax[0].set_xlim(1997.5,2019.5)\n",
    "plt.savefig('../writing/figures/operator_patterns_abs_us_splitted.pdf', bbox_inches='tight', transparent=True)"
   ]
  },
  {
   "cell_type": "code",
   "execution_count": null,
   "id": "a278101f-ece8-41a5-a2dc-0183736d0e8b",
   "metadata": {},
   "outputs": [],
   "source": [
    "fig, ax = plt.subplots(figsize=(9,6))\n",
    "df_abs_sum[selected_patterns].sort_values(\n",
    "    int(years[-1]), axis=1, ascending=False\n",
    ").plot(ax=ax, marker='.')\n",
    "handles, labels = ax.get_legend_handles_labels()\n",
    "plt.legend(handles, [all_patterns[p] for p in labels], loc='center left', bbox_to_anchor=(1.0, 0.5))\n",
    "plt.ylabel('Occurrences')\n",
    "plt.xlabel('Year')\n",
    "ax.set_xticks(range(1998,2020,3))\n",
    "# plt.savefig('../graphics/operator_patterns_abs_us_selected.pdf', bbox_inches='tight')"
   ]
  },
  {
   "cell_type": "code",
   "execution_count": null,
   "id": "0bd869b3-dbbc-4a34-8e63-4f86dffb49d9",
   "metadata": {},
   "outputs": [],
   "source": [
    "fig, ax = plt.subplots(figsize=(9,6))\n",
    "df_rel_sum.sort_values(int(years[-1]), axis=1, ascending=False).plot(ax=ax, marker='.')\n",
    "handles, labels = ax.get_legend_handles_labels()\n",
    "plt.legend(handles, [all_patterns[p] for p in labels], loc='center left', bbox_to_anchor=(1.0, 0.5))\n",
    "plt.ylabel('Occurrences/1000 tokens')\n",
    "plt.xlabel('Year')\n",
    "ax.set_xticks(range(1998,2020,3))\n",
    "# plt.savefig('../graphics/operator_patterns_rel_us.pdf', bbox_inches='tight')"
   ]
  },
  {
   "cell_type": "code",
   "execution_count": null,
   "id": "d051b0fd-cf60-4cc0-81bd-f52703eb4cab",
   "metadata": {},
   "outputs": [],
   "source": [
    "df1 = df_rel_sum[['and_and', 'or_or', 'and_or', 'not_and_or']].sort_values(int(years[-1]), axis=1, ascending=False)\n",
    "df2 = df_rel_sum[selected_patterns].sort_values(int(years[-1]), axis=1, ascending=False)\n",
    "fig, ax = splitted_plot(df1, df2)\n",
    "ax[0].annotate(f\"Occurrences per {1000:n} Tokens\", (-0.14,-0.11), fontsize=fontsize+extra, rotation=90, xycoords=\"axes fraction\", ha='center', va='center')\n",
    "ax[1].set_xlabel('Year', fontsize=fontsize+4)\n",
    "ax[1].set_yticks(np.arange(0,0.31,0.1))\n",
    "ax[1].set_ylim(-0.025,0.325)\n",
    "ax[0].set_ylim(1.35,3.15)\n",
    "ax[0].set_yticks(np.arange(1.5,3.1,0.5))\n",
    "ax[0].set_xlim(1997.5,2019.5)\n",
    "plt.savefig('../writing/figures/operator_patterns_rel_us_splitted.pdf', bbox_inches='tight', transparent=True)"
   ]
  },
  {
   "cell_type": "code",
   "execution_count": null,
   "id": "2ddbe2d5-fa14-456e-a6e9-802949b8e0a4",
   "metadata": {},
   "outputs": [],
   "source": [
    "fig, ax = plt.subplots(figsize=(9,6))\n",
    "df_rel_sum[selected_patterns].sort_values(\n",
    "    int(years[-1]), axis=1, ascending=False\n",
    ").plot(ax=ax, marker='.')\n",
    "handles, labels = ax.get_legend_handles_labels()\n",
    "plt.legend(handles, [all_patterns[p] for p in labels], loc='center left', bbox_to_anchor=(1.0, 0.5))\n",
    "plt.ylabel('Occurrences/1000 tokens')\n",
    "plt.xlabel('Year')\n",
    "ax.set_xticks(range(1998,2020,3))\n",
    "# plt.savefig('../graphics/operator_patterns_rel_us_selected.pdf', bbox_inches='tight')"
   ]
  },
  {
   "cell_type": "markdown",
   "id": "6fcf865d-90f1-42e0-8e02-295fbc866d81",
   "metadata": {},
   "source": [
    "# Stats"
   ]
  },
  {
   "cell_type": "code",
   "execution_count": null,
   "id": "7e09e4f9-4c6e-4ab6-b96c-f42ffeb67037",
   "metadata": {},
   "outputs": [],
   "source": [
    "abs_stats = df_abs_sum.loc[2019] / df_abs_sum.loc[1998]\n",
    "abs_stats"
   ]
  },
  {
   "cell_type": "code",
   "execution_count": null,
   "id": "c83b9343-5da5-4277-90ba-dd69db7f2675",
   "metadata": {},
   "outputs": [],
   "source": [
    "abs_stats.describe()"
   ]
  },
  {
   "cell_type": "code",
   "execution_count": null,
   "id": "f5e4eecc-fe16-49af-b9b9-0df940c47b4f",
   "metadata": {},
   "outputs": [],
   "source": [
    "rel_stats = df_rel_sum.loc[2019] / df_rel_sum.loc[1998]\n",
    "rel_stats"
   ]
  },
  {
   "cell_type": "code",
   "execution_count": null,
   "id": "4cc077eb-2268-4c11-8f31-53bdd5593b1c",
   "metadata": {},
   "outputs": [],
   "source": [
    "rel_stats.describe()"
   ]
  },
  {
   "cell_type": "markdown",
   "id": "ce80fe8e-58c6-4963-b7fc-8db318b62210",
   "metadata": {},
   "source": [
    "# Table"
   ]
  },
  {
   "cell_type": "code",
   "execution_count": null,
   "id": "66c02683-867b-4828-8a80-2858f81faa06",
   "metadata": {},
   "outputs": [],
   "source": [
    "top_dfs = []\n",
    "for pattern in patterns:\n",
    "    top = df_rel[pattern][2019].sort_values(ascending=False)[:5]\n",
    "    df = pd.DataFrame(top, dtype=float).reset_index()\n",
    "    df.columns = ['Title', 'Freq.']\n",
    "    top_dfs.append(df)\n",
    "top_df = pd.concat(top_dfs, axis=1, keys=[patterns[p] for p in patterns])\n",
    "top_df = top_df.round(2)"
   ]
  },
  {
   "cell_type": "code",
   "execution_count": null,
   "id": "edd5ee2f-2a35-43e0-8189-852a4115213e",
   "metadata": {},
   "outputs": [],
   "source": [
    "with open('../data/operator_patterns_rel_us_top_title.tex', 'w') as f:\n",
    "    for i in range(1):\n",
    "        latex = top_df[top_df.columns[i*10:(i+1)*10]].to_latex(None, index=False)\n",
    "        latex = re.sub(r'\\\\toprule\\n(\\S+)', '\\\\\\\\multicolumn{2}{l}{\\g<1>}', latex)\n",
    "        f.write(latex)\n",
    "        f.write('\\n\\n')"
   ]
  }
 ],
 "metadata": {
  "kernelspec": {
   "display_name": "Python 3",
   "language": "python",
   "name": "python3"
  },
  "language_info": {
   "codemirror_mode": {
    "name": "ipython",
    "version": 3
   },
   "file_extension": ".py",
   "mimetype": "text/x-python",
   "name": "python",
   "nbconvert_exporter": "python",
   "pygments_lexer": "ipython3",
   "version": "3.8.10"
  }
 },
 "nbformat": 4,
 "nbformat_minor": 5
}

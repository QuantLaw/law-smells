{
 "cells": [
  {
   "cell_type": "code",
   "execution_count": null,
   "id": "47731ab2-2404-4563-b8ed-c28b5263a6b0",
   "metadata": {},
   "outputs": [],
   "source": [
    "import os\n",
    "import pandas as pd\n",
    "import numpy as np\n",
    "import matplotlib.pyplot as plt\n",
    "import seaborn as sns\n",
    "sns.set_style(\"whitegrid\")"
   ]
  },
  {
   "cell_type": "code",
   "execution_count": null,
   "id": "78d4e477-343f-438f-b854-daff33194961",
   "metadata": {},
   "outputs": [],
   "source": [
    "%run smell_helpers.py"
   ]
  },
  {
   "cell_type": "code",
   "execution_count": null,
   "id": "5f4cb272-0420-47d9-9abc-535d4716dd19",
   "metadata": {},
   "outputs": [],
   "source": [
    "corpus_sizes = {int(k):{int(k2):v2 for k2,v2 in v.items()} for k,v in load_json(\"../data/corpus_size_token_us.json\").items()}\n",
    "corpus_sizes[2019].keys()"
   ]
  },
  {
   "cell_type": "code",
   "execution_count": null,
   "id": "26cbce95-1784-4e84-8962-6bead424a629",
   "metadata": {},
   "outputs": [],
   "source": [
    "df_dict = {x[:-4]:pd.read_csv(f\"../ner_counts/{x}\") for x in os.listdir(\"../ner_counts\")}"
   ]
  },
  {
   "cell_type": "code",
   "execution_count": null,
   "id": "c0affe03-e462-4304-9059-f87396b74e01",
   "metadata": {},
   "outputs": [],
   "source": [
    "df_dict.keys()"
   ]
  },
  {
   "cell_type": "code",
   "execution_count": null,
   "id": "8f593cde-3b8a-42ff-be6b-740cf681687b",
   "metadata": {},
   "outputs": [],
   "source": [
    "for k,df in df_dict.items():\n",
    "    df[\"title\"] = df.file.map(lambda x:x.split(\"_\")[0][:-1])\n",
    "    df[\"year\"]  = df.file.map(lambda x:int(x.split(\"_\")[-1][:-4]))\n",
    "    df[\"ner_type\"] = k if k not in [\"monthday\", \"month\", \"day\", \"year\", \"date\", \"period\"] else (\"time_point\" if k in [\"monthday\",\"date\", \"year\"] else \"time_period\")"
   ]
  },
  {
   "cell_type": "code",
   "execution_count": null,
   "id": "2a8c92a2-52b9-469e-8023-fe38bd2393c0",
   "metadata": {},
   "outputs": [],
   "source": [
    "df_concat = pd.concat(list(df_dict.values()))"
   ]
  },
  {
   "cell_type": "code",
   "execution_count": null,
   "id": "df0a3e2f-92c8-477b-b19e-d8e6ba5d5efc",
   "metadata": {},
   "outputs": [],
   "source": [
    "# how many (non-unique) mentions of ners by type do we find in 2019?\n",
    "df_concat.query(\"year == 2019\").groupby([\"year\",\"ner_type\"]).sum()"
   ]
  },
  {
   "cell_type": "code",
   "execution_count": null,
   "id": "5338f144-820d-4f77-867d-b3ee6a128fd5",
   "metadata": {},
   "outputs": [],
   "source": [
    "# how many UNIQUE mentions of ners by type do we find in 2019?\n",
    "df_concat.query(\"year == 2019\").groupby([\"year\",\"ner_type\"]).count() # interestingly, the Office seems to have started using terms only in 2013?"
   ]
  },
  {
   "cell_type": "code",
   "execution_count": null,
   "id": "4f2fae5c-a19f-4fdb-8b9d-256985ad8d4d",
   "metadata": {},
   "outputs": [],
   "source": [
    "df_concat.query(\"ner_type == 'money'\").groupby('text').count().reset_index().sort_values(\"counts\", ascending=False)[:50]"
   ]
  },
  {
   "cell_type": "code",
   "execution_count": null,
   "id": "0d78c7b1-d14b-49d9-9ca4-8c32f3e196ed",
   "metadata": {},
   "outputs": [],
   "source": [
    "plot_dfs = {}\n",
    "for year in corpus_sizes.keys():\n",
    "    df_concat_t = df_concat.query(\"year == @year and ner_type != 'rawreference' and ner_type != 'enum' and ner_type != 'term'\"\n",
    "                                 ).groupby([\"title\",\"ner_type\"]).sum().reset_index().pivot(index=\"title\", columns=\"ner_type\", values=\"counts\").fillna(0).astype(int)\n",
    "    tokens_n = pd.DataFrame([corpus_sizes[year][int(x)]/1000 for x in df_concat_t.index], index=df_concat_t.index, columns=[\"tokens_n\"])\n",
    "    df_concat_t_tokennorm = df_concat_t.div(tokens_n.tokens_n, axis=0) # number of occurrences per 1000 tokens\n",
    "    df_concat_t_normed_rows = df_concat_t.div(df_concat_t.sum(axis=1), axis=0)\n",
    "    df_concat_t_normed_cols = (df_concat_t / df_concat_t.sum(axis=0))\n",
    "    plot_dfs[year] = df_concat_t_tokennorm.copy()"
   ]
  },
  {
   "cell_type": "code",
   "execution_count": null,
   "id": "ea82fe4a-f678-4f23-9e22-512cee9e4b5b",
   "metadata": {},
   "outputs": [],
   "source": [
    "plot_dfs[1998]"
   ]
  },
  {
   "cell_type": "code",
   "execution_count": null,
   "id": "5cc43c43-e474-4708-9813-ee23e18b9d80",
   "metadata": {},
   "outputs": [],
   "source": [
    "two_dfs = pd.merge(plot_dfs[2019].reset_index(),plot_dfs[1998].reset_index(), on=\"title\", suffixes=[\"2019\",\"1998\"], how=\"outer\").fillna(-1).set_index('title')"
   ]
  },
  {
   "cell_type": "code",
   "execution_count": null,
   "id": "879bdfa5-0dfc-4b0b-8337-a6693d346c02",
   "metadata": {},
   "outputs": [],
   "source": [
    "two_dfs.index = two_dfs.index.map(int)"
   ]
  },
  {
   "cell_type": "code",
   "execution_count": null,
   "id": "ece6fc17-c9e3-4661-978f-490f0c44359c",
   "metadata": {},
   "outputs": [],
   "source": [
    "two_dfs"
   ]
  },
  {
   "cell_type": "code",
   "execution_count": null,
   "id": "ac7e36c7-dc10-43b5-9c79-09afa27bfb83",
   "metadata": {},
   "outputs": [],
   "source": [
    "sorted(two_dfs.columns)"
   ]
  },
  {
   "cell_type": "code",
   "execution_count": null,
   "id": "19b08bf0-1cdd-4829-aea8-da3d845a158c",
   "metadata": {},
   "outputs": [],
   "source": [
    "fontsize = 34\n",
    "extra=6\n",
    "plt.rcParams[\"font.family\"] = \"serif\"\n",
    "plt.rcParams[\"font.serif\"] = \"Times New Roman\"\n",
    "plt.rcParams[\"mathtext.fontset\"] = \"stix\"\n",
    "fig, ax = plt.subplots(1,2,figsize=(36.5,12),gridspec_kw={'width_ratios': [36, 0.5]})\n",
    "sns.heatmap(two_dfs[sorted(two_dfs.columns)].T, robust=False, cmap='viridis', vmin=0, vmax=np.quantile(two_dfs.values, 0.99),\n",
    "            cbar=True, mask=two_dfs[sorted(two_dfs.columns)].T < 0, ax=ax[0], cbar_ax=ax[1]\n",
    "           )\n",
    "ax[0].hlines([2, 4, 6], *ax[0].get_xlim(), color='k', lw=2)\n",
    "ax[0].set_xticklabels(ax[0].get_xticklabels(),fontsize=fontsize)\n",
    "ax[0].set_xlabel(\"Title\", fontsize=fontsize+extra)\n",
    "ax[0].set_yticklabels([int(x[-4:]) for x in sorted(two_dfs.columns)],fontsize=fontsize, va=\"center\")\n",
    "ax[0].set_ylabel(\"\")\n",
    "ax[1].tick_params(labelsize=fontsize)\n",
    "ax[0].annotate(\"Data Type\",(-0.045,0.5), fontsize=fontsize+extra, rotation=90, xycoords=\"axes fraction\", ha='center', va='center')\n",
    "ax[0].annotate(\"Time Point\",(-0.025,0.125), fontsize=fontsize, rotation=90, xycoords=\"axes fraction\", ha='center', va='center')\n",
    "ax[0].annotate(\"Time Period\",(-0.025,0.375), fontsize=fontsize, rotation=90, xycoords=\"axes fraction\", ha='center', va='center')\n",
    "ax[0].annotate(\"Percentage\",(-0.025,0.625), fontsize=fontsize, rotation=90, xycoords=\"axes fraction\", ha='center', va='center')\n",
    "ax[0].annotate(\"Money\",(-0.025,0.875), fontsize=fontsize, rotation=90, xycoords=\"axes fraction\", ha='center', va='center')\n",
    "plt.tight_layout()\n",
    "plt.savefig(\"../writing/figures/named_entities_per_thousand_tokens.pdf\", transparent=True, bbox_inches='tight')"
   ]
  },
  {
   "cell_type": "code",
   "execution_count": null,
   "id": "217a3bf0-b8d3-4eee-899a-fb969c8ec027",
   "metadata": {},
   "outputs": [],
   "source": [
    "two_dfs[sorted(two_dfs.columns)].sort_values(\"percentage2019\", ascending=False)"
   ]
  },
  {
   "cell_type": "code",
   "execution_count": null,
   "id": "a8c4d177-aec4-434c-858e-d033cb1a1a67",
   "metadata": {},
   "outputs": [],
   "source": [
    "from collections import Counter"
   ]
  },
  {
   "cell_type": "code",
   "execution_count": null,
   "id": "0ea1cb14-c0fa-47e1-86aa-fbd9704c7331",
   "metadata": {},
   "outputs": [],
   "source": [
    "patterns = {\n",
    "    \"senate_committee\": \"committee.*senate|senate_.*committee\",\n",
    "    \"house_committee\": \"committee.*house|house_.*committee\",\n",
    "    \"committee\": \"committee\",\n",
    "    \"budget\": \"budget\",\n",
    "}"
   ]
  },
  {
   "cell_type": "code",
   "execution_count": null,
   "id": "e3c27f40-ae3f-4e48-9e45-a8a9e6d0373d",
   "metadata": {},
   "outputs": [],
   "source": [
    "path = \"../dupex_mf-10000_results\"\n",
    "files = get_files(path, \"_2019.json\")\n",
    "results = {k:{} for k in patterns.keys()}\n",
    "for file in files:\n",
    "    print(file)\n",
    "    data = load_json(f\"{path}/{file}\")\n",
    "    seq = data[\"current_sequence\"]\n",
    "    for k,p in patterns.items():\n",
    "        res = [t for t in seq if re.search(p,t)]\n",
    "        results[k][int(file[:2])] = dict(Counter(res))\n",
    "        if res:\n",
    "            print(k, len(res), len(results[k][int(file[:2])].keys()))"
   ]
  },
  {
   "cell_type": "code",
   "execution_count": null,
   "id": "159ef121-a0c2-431f-9cc4-795a25c8b834",
   "metadata": {},
   "outputs": [],
   "source": [
    "df_senate = pd.DataFrame(results[\"senate_committee\"]).T.fillna(0).astype(int)\n",
    "df_house = pd.DataFrame(results[\"house_committee\"]).T.fillna(0).astype(int)"
   ]
  },
  {
   "cell_type": "code",
   "execution_count": null,
   "id": "00a3e046-01fd-494e-becb-0f52e5d54468",
   "metadata": {},
   "outputs": [],
   "source": [
    "excluded = ['committee_of_the_senate', 'committees_of_the_senate', 'house_of_representatives', 'and_the_committee']\n",
    "excluded_house = ['senate', '_and_the_committee']"
   ]
  },
  {
   "cell_type": "code",
   "execution_count": null,
   "id": "f730f832-933d-4dc3-9f30-7558651f7bce",
   "metadata": {},
   "outputs": [],
   "source": [
    "senate_committees = set([re.findall(\"(?:select.)?committee.*?senate\", x)[0]\n",
    "                         .split(\"_on_\",1)[-1].split(\"_of_the_\",1)[0] \n",
    "                         for x in df_senate.columns.values \n",
    "                         if not any(y in x for y in excluded) \n",
    "                         and re.findall(\"committee.*?senate\", x)])"
   ]
  },
  {
   "cell_type": "code",
   "execution_count": null,
   "id": "75dd8d70-6836-4457-9fc7-a915934b1614",
   "metadata": {
    "tags": []
   },
   "outputs": [],
   "source": [
    "house_committees = set([re.findall(\"committee.*?house_of_representatives\", x)[0]\n",
    "                        .split(\"_on_\",1)[-1].split(\"_of_the_\",1)[0] \n",
    "                        for x in df_house.columns.values \n",
    "                        if not any(y in x for y in excluded_house) \n",
    "                        and re.findall(\"committee.*?house_of_representatives\", x)])"
   ]
  },
  {
   "cell_type": "code",
   "execution_count": null,
   "id": "28d809d3-00e7-419b-b224-155d0631f311",
   "metadata": {},
   "outputs": [],
   "source": [
    "len(house_committees), sorted(house_committees)"
   ]
  },
  {
   "cell_type": "markdown",
   "id": "9376b847-18f2-4322-9c85-af6bef4be2cf",
   "metadata": {},
   "source": [
    "all house committees are currently active, except:\n",
    "- we see a \"united states\" variant again for natural resources (where we also see the senate variant)\n",
    "- education and the workforce (renamed 2019, but previously held this name until 1883)\n",
    "- house oversight (renamed, now oversight and reform?)\n",
    "- oversight and government reform (renamed, 116th congress?)\n",
    "- public works and transportation (renamed, 1994?)\n",
    "- science and technology (renamed, 112th congress)\n",
    "- resources (renamed, now natural resources?)\n",
    "\n",
    "we are missing (of the currently active committees):\n",
    "- budget\n",
    "- ethics\n",
    "- rules\n",
    "- veterans' affairs"
   ]
  },
  {
   "cell_type": "code",
   "execution_count": null,
   "id": "7e6c6f56-ca73-4436-ac24-56eebd365a91",
   "metadata": {},
   "outputs": [],
   "source": [
    "len(senate_committees), sorted(senate_committees)"
   ]
  },
  {
   "cell_type": "markdown",
   "id": "0cbb1cba-2711-4a6a-89d3-92b0ce4db50b",
   "metadata": {},
   "source": [
    "all senate committees are currently active, except:\n",
    "- committee_on_energy_and_natural_resources_of_the_united_states_senate (variant) / removed above via splitting\n",
    "- committee_on_governmental_affairs_of_the_senate (renamed)\n",
    "\n",
    "we are missing (of the currently active committees):\n",
    "- budget committee\n",
    "- special committee on aging\n",
    "- joint committees\n",
    "- select committee on ethics"
   ]
  },
  {
   "cell_type": "code",
   "execution_count": null,
   "id": "4f1654cc-6a3b-436f-b572-7647d2e3741a",
   "metadata": {},
   "outputs": [],
   "source": [
    "len(senate_committees)"
   ]
  },
  {
   "cell_type": "markdown",
   "id": "dfb55e44-7421-4df4-ba80-f63e0392fd17",
   "metadata": {},
   "source": [
    "### now with the filtered committees"
   ]
  },
  {
   "cell_type": "code",
   "execution_count": null,
   "id": "a7b7052e-415e-4e0b-85ab-0e1e5881bb5a",
   "metadata": {},
   "outputs": [],
   "source": [
    "senate_patterns = {x:f\"on_{x}_of_the_(?:united_states_)?senate\" for x in sorted(senate_committees)}\n",
    "house_patterns = {x:f\"on_{x}_of_the_(?:united_states_)?house_of_representatives\" for x in sorted(house_committees)}"
   ]
  },
  {
   "cell_type": "code",
   "execution_count": null,
   "id": "939af292-9442-4a88-b787-acca8ef909ac",
   "metadata": {},
   "outputs": [],
   "source": [
    "path = \"../dupex_mf-10000_results\"\n",
    "files = get_files(path, \"_2019.json\")\n",
    "senate_results = {k:{} for k in senate_patterns.keys()}\n",
    "house_results = {k:{} for k in house_patterns.keys()}\n",
    "\n",
    "for file in files:\n",
    "    print(file)\n",
    "    data = load_json(f\"{path}/{file}\")\n",
    "    seq = data[\"current_sequence\"]\n",
    "    for k,p in senate_patterns.items():\n",
    "        res = [t for t in seq if re.search(p,t)]\n",
    "        senate_results[k][int(file[:2])] = dict(Counter(res))\n",
    "        if res:\n",
    "            print(\"s\", k, len(res), len(senate_results[k][int(file[:2])].keys()))\n",
    "    for k,p in house_patterns.items():\n",
    "        res = [t for t in seq if re.search(p,t)]\n",
    "        house_results[k][int(file[:2])] = dict(Counter(res))\n",
    "        if res:\n",
    "            print(\"h\", k, len(res), len(house_results[k][int(file[:2])].keys()))"
   ]
  },
  {
   "cell_type": "code",
   "execution_count": null,
   "id": "ac839234-e4a8-4e81-9ee8-9df5b5e4ea90",
   "metadata": {},
   "outputs": [],
   "source": [
    "df_senate_results = pd.DataFrame(senate_results).applymap(lambda x_dict: sum(x_dict.values())).astype(float)\n",
    "df_senate_results.columns = [f\"s_{x}\" for x in df_senate_results.columns]\n",
    "df_senate_results"
   ]
  },
  {
   "cell_type": "code",
   "execution_count": null,
   "id": "16a14aaa-4026-41cb-ac0d-03bc58ad3e81",
   "metadata": {},
   "outputs": [],
   "source": [
    "df_house_results = pd.DataFrame(house_results).applymap(lambda x_dict: sum(x_dict.values())).astype(float)\n",
    "df_house_results.columns = [f\"h_{x}\" for x in df_house_results.columns]\n",
    "df_house_results"
   ]
  },
  {
   "cell_type": "code",
   "execution_count": null,
   "id": "909503dd-8f8b-4f27-b9e7-59a49d7940c8",
   "metadata": {},
   "outputs": [],
   "source": [
    "df_results_concat = pd.concat([df_senate_results, df_house_results], axis=1)\n",
    "df_results_concat.index.name = 'title'"
   ]
  },
  {
   "cell_type": "code",
   "execution_count": null,
   "id": "c84a6387-3f81-4a52-b159-9a0d7bcdaf98",
   "metadata": {},
   "outputs": [],
   "source": [
    "df_results_concat"
   ]
  },
  {
   "cell_type": "code",
   "execution_count": null,
   "id": "166e6592-67a3-42c6-84ed-3917004fcde8",
   "metadata": {},
   "outputs": [],
   "source": [
    "df_results_concat_normed = df_results_concat.apply(lambda x:x/tokens_n.tokens_n,axis=0,raw=True)\n",
    "df_results_concat_normed_selected = df_results_concat_normed[df_results_concat_normed.max(axis=1) > 0]"
   ]
  },
  {
   "cell_type": "code",
   "execution_count": null,
   "id": "30644ec4-7916-4e6d-aa03-aeba36dfbd80",
   "metadata": {},
   "outputs": [],
   "source": [
    "fig, ax = plt.subplots(figsize=(24,12))\n",
    "sns.heatmap(df_results_concat_normed_selected.T, vmin=0, vmax=np.quantile(df_results_concat_normed_selected.values, 0.99),\n",
    "            cmap='viridis', \n",
    "           )"
   ]
  },
  {
   "cell_type": "code",
   "execution_count": null,
   "id": "19664396-f15e-46cf-9bec-0c9966ce6fbe",
   "metadata": {},
   "outputs": [],
   "source": [
    "outdated = [\n",
    "    \"H education and the workforce\",\n",
    "    \"H banking, finance and urban affairs\",\n",
    "    \"H education and the workforce\",\n",
    "    \"H house oversight\",\n",
    "    \"H public works and transportation\",\n",
    "    \"H science and technology\",\n",
    "    \"H resources\",\n",
    "    \"S governmental affairs\"\n",
    "]"
   ]
  },
  {
   "cell_type": "code",
   "execution_count": null,
   "id": "cea2b378-4ab5-4990-90a0-ef5cde8809c4",
   "metadata": {},
   "outputs": [],
   "source": [
    "g = sns.clustermap(df_results_concat_normed_selected.T, method='average', metric='correlation', \n",
    "               vmin=0, vmax=np.quantile(df_results_concat_normed_selected.values, 0.99), figsize=(24,20), cmap='viridis', \n",
    "               dendrogram_ratio=0.125, cbar_kws=dict(shrink=0.5), row_cluster=True, col_cluster=True\n",
    "              )\n",
    "g.ax_heatmap.set_xlabel(\"Title\", fontsize=fontsize+extra)\n",
    "g.ax_heatmap.set_ylabel(\"Committee\", fontsize=fontsize+extra)\n",
    "g.ax_heatmap.set_yticklabels([x.get_text().replace(\"_\", \" \").replace(\" ,\", \",\").capitalize() for x in g.ax_heatmap.get_yticklabels()], fontsize=fontsize-4);\n",
    "g.ax_heatmap.set_xticklabels(g.ax_heatmap.get_xticklabels(), fontsize=fontsize);\n",
    "g.ax_cbar.set_yticks(np.arange(0,0.15,0.02))\n",
    "g.ax_cbar.set_yticklabels([f\"{round(x,2):.2f}\" for x in np.arange(0,0.15,0.02)], fontsize=fontsize-8)\n",
    "for a in g.ax_row_dendrogram.collections:\n",
    "    a.set_linewidth(2)\n",
    "for a in g.ax_col_dendrogram.collections:\n",
    "    a.set_linewidth(2)\n",
    "for l in g.ax_heatmap.get_yticklabels():\n",
    "    if l.get_text() in outdated:\n",
    "        l.set_fontstyle(\"italic\")\n",
    "g.ax_heatmap.hlines(range(5,41,5), *g.ax_heatmap.get_xlim(), color='k', lw=2)\n",
    "g.ax_heatmap.vlines(range(3,31,3), *g.ax_heatmap.get_ylim(), color='k', lw=2)\n",
    "g.savefig(\"../writing/figures/committees_per_thousand_tokens.pdf\", transparent=True)"
   ]
  },
  {
   "cell_type": "code",
   "execution_count": null,
   "id": "5203587a-f2e4-473e-9b65-90dc832fee7b",
   "metadata": {},
   "outputs": [],
   "source": [
    "len(house_committees) + len(senate_committees)"
   ]
  },
  {
   "cell_type": "code",
   "execution_count": null,
   "id": "f8020924-c3a3-4a25-a4e6-f313fec9ba55",
   "metadata": {},
   "outputs": [],
   "source": [
    "len(g.dendrogram_col.reordered_ind)"
   ]
  },
  {
   "cell_type": "code",
   "execution_count": null,
   "id": "2df52680-897c-4c71-8e89-5dc01293eacf",
   "metadata": {},
   "outputs": [],
   "source": [
    "senate_committees"
   ]
  },
  {
   "cell_type": "code",
   "execution_count": null,
   "id": "604a98f7-a731-47ba-a35a-68815c135a90",
   "metadata": {},
   "outputs": [],
   "source": []
  }
 ],
 "metadata": {
  "kernelspec": {
   "display_name": "Python 3",
   "language": "python",
   "name": "python3"
  },
  "language_info": {
   "codemirror_mode": {
    "name": "ipython",
    "version": 3
   },
   "file_extension": ".py",
   "mimetype": "text/x-python",
   "name": "python",
   "nbconvert_exporter": "python",
   "pygments_lexer": "ipython3",
   "version": "3.8.0"
  }
 },
 "nbformat": 4,
 "nbformat_minor": 5
}
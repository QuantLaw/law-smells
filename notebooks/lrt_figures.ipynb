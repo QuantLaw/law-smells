{
 "cells": [
  {
   "cell_type": "code",
   "execution_count": null,
   "id": "f68fe35c-f724-4914-bcb8-5418df099d34",
   "metadata": {},
   "outputs": [],
   "source": [
    "import os\n",
    "import pandas as pd\n",
    "import numpy as np\n",
    "import matplotlib.pyplot as plt\n",
    "import matplotlib.patches as mpatches\n",
    "import seaborn as sns\n",
    "sns.set_style(\"whitegrid\")"
   ]
  },
  {
   "cell_type": "code",
   "execution_count": null,
   "id": "8e002825-d3be-4cb1-ba1c-345ecdd7628b",
   "metadata": {},
   "outputs": [],
   "source": [
    "fontsize = 30\n",
    "extra = 4\n",
    "plt.rcParams[\"font.family\"] = \"serif\"\n",
    "plt.rcParams[\"font.serif\"] = \"Times New Roman\"\n",
    "plt.rcParams[\"mathtext.fontset\"] = \"stix\""
   ]
  },
  {
   "cell_type": "code",
   "execution_count": null,
   "id": "5a948857-1939-4b29-8297-0a2aae0f55b9",
   "metadata": {},
   "outputs": [],
   "source": [
    "files = [f\"../data/reference_sets_{y}.csv\" for y in range(1998,2020)]"
   ]
  },
  {
   "cell_type": "code",
   "execution_count": null,
   "id": "61cf2da5-ff4c-436a-8e00-c8e3213ceeb7",
   "metadata": {},
   "outputs": [],
   "source": [
    "df = pd.concat([pd.read_csv(file, index_col=0) for file in files])\n",
    "df[\"root_title\"] = df.root.map(lambda x:int(x[:2]))\n",
    "df[\"root_title_str\"] = df.root_title.map(str)"
   ]
  },
  {
   "cell_type": "code",
   "execution_count": null,
   "id": "cc90f7b7-1bc5-4e86-a2a9-6cff6a92c219",
   "metadata": {},
   "outputs": [],
   "source": [
    "b1 = mpatches.Rectangle((0,0),1,1,fc=\"#3333FF\", alpha=0.75)\n",
    "b2 = mpatches.Rectangle((0,0),1,1,fc=\"#FF0000\", alpha=0.75)\n",
    "b3 = mpatches.Rectangle((0,0),1,1,fc=\"#991A80\", alpha=0.75)"
   ]
  },
  {
   "cell_type": "code",
   "execution_count": null,
   "id": "7ce0d398-faf8-47f1-948f-fe54c522ae96",
   "metadata": {},
   "outputs": [],
   "source": [
    "fig, ax = plt.subplots(figsize=(30,9))\n",
    "sns.histplot(data=df.query('year == 1998 or year == 2019').sort_values(['root_title']), stat='probability', common_norm=False,\n",
    "             x=\"root_title_str\",y=\"ref_edges\",hue=\"year\", discrete=(True,False), binwidth=25, ax=ax, \n",
    "             palette=['#3333FF', '#FF0000'], hue_order=[1998,2019], alpha=0.75, legend=False)\n",
    "ax.set_xlabel(\"Title\", fontsize=fontsize+extra)\n",
    "ax.set_xticks(range(len(df.root_title.unique())))\n",
    "ax.set_xticklabels(sorted(df.root_title.unique()), fontsize=fontsize)\n",
    "ax.set_ylabel(\"Number of Edges in Reference Tree\", fontsize=fontsize+extra)\n",
    "ax.set_yticks(range(0,1501,250))\n",
    "ax.set_yticklabels(range(0,1501,250), fontsize=fontsize)\n",
    "ax.set_ylim(0,1500)\n",
    "ax.set_xlim(-0.5,52.5)\n",
    "plt.legend([b1, b2, b3], [1998, 2019, \"Both\"], title=\"Year\", labelspacing=0.2,\n",
    "           fontsize=fontsize, title_fontsize=fontsize+extra, loc=\"center right\")\n",
    "plt.tight_layout()\n",
    "plt.savefig(\"../writing/figures/reference_tree_size_ref_edges_2dhist.pdf\", transparent=True)"
   ]
  },
  {
   "cell_type": "code",
   "execution_count": null,
   "id": "d563d483-1d94-464c-a0fa-507d27ad1c70",
   "metadata": {},
   "outputs": [],
   "source": []
  }
 ],
 "metadata": {
  "kernelspec": {
   "display_name": "Python 3",
   "language": "python",
   "name": "python3"
  },
  "language_info": {
   "codemirror_mode": {
    "name": "ipython",
    "version": 3
   },
   "file_extension": ".py",
   "mimetype": "text/x-python",
   "name": "python",
   "nbconvert_exporter": "python",
   "pygments_lexer": "ipython3",
   "version": "3.8.0"
  }
 },
 "nbformat": 4,
 "nbformat_minor": 5
}
